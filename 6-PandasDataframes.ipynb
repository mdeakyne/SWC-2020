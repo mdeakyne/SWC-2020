{
 "cells": [
  {
   "cell_type": "markdown",
   "metadata": {},
   "source": [
    "# Pandas DataFrames"
   ]
  },
  {
   "cell_type": "markdown",
   "metadata": {},
   "source": [
    "## Questions\n",
    "How can I do statistical analysis of tabular data?\n",
    "\n",
    "## Objectives\n",
    "Select individual values from a Pandas dataframe.\n",
    "\n",
    "Select entire rows or entire columns from a dataframe.\n",
    "\n",
    "Select a subset of both rows and columns from a dataframe in a single operation.\n",
    "\n",
    "Select a subset of a dataframe by a single Boolean criterion."
   ]
  },
  {
   "cell_type": "markdown",
   "metadata": {},
   "source": [
    "### Note about Pandas Dataframes / Series\n",
    "A DataFrame is a collection of Series; The DataFrame is the way Pandas represents a table, and Series is the data-structure Pandas use to represent a column.\n",
    "\n",
    "Pandas is built on top of the Numpy library, which in practice means that most of the methods defined for Numpy Arrays apply to Pandas Series/DataFrames.\n",
    "\n",
    "What makes Pandas so attractive is the powerful interface to access individual records of the table, proper handling of missing values, and relational-databases operations between DataFrames."
   ]
  },
  {
   "cell_type": "markdown",
   "metadata": {},
   "source": [
    "## Loading data\n",
    "This code \n",
    "* imports the pandas library\n",
    "* Reads in the salaries csv file, using username as the index\n",
    "* Sorts based on the index column (username)\n",
    "* Prints the top 20 rows of the dataframe\n",
    "\n",
    "```python\n",
    "import pandas as pd\n",
    "salary_data = pd.read_csv('data/salaries.csv', index_col='username')\n",
    "salary_data = salary_data.sort_index()\n",
    "salary_data.head(n=20)\n",
    "```\n",
    "\n",
    "\n",
    "\n",
    "## Selecting values\n",
    "To access a value at the position `[i,j]` of a DataFrame, we have two options, depending on what is the meaning of i in use. \n",
    "\n",
    "#### Use `DataFrame.iloc[..., ...]` to select values by their (entry) position\n",
    "\n",
    "#### Use `DataFrame.loc[..., ...]` to select values by their (entry) label\n",
    "\n",
    "```python\n",
    "salary_data.iloc[0,0] #Selects value at row 0, column 0\n",
    "salary_data.loc[\"mforre4\", 'email'] #selects value at row 'mforre4', column 'email'\n",
    "```\n",
    "\n",
    "#### Use `:` on it's own to mean all columns or all rows\n",
    "```python\n",
    "salary_data.loc[\"pegre3\",:] #Select all columns for row 'pegre3'\n",
    "salary_data.loc[:,'salary'] #Select all rows for column 'salary'\n",
    "```\n"
   ]
  },
  {
   "cell_type": "code",
   "execution_count": null,
   "metadata": {},
   "outputs": [],
   "source": []
  },
  {
   "cell_type": "code",
   "execution_count": null,
   "metadata": {},
   "outputs": [],
   "source": []
  },
  {
   "cell_type": "code",
   "execution_count": null,
   "metadata": {},
   "outputs": [],
   "source": []
  },
  {
   "cell_type": "markdown",
   "metadata": {},
   "source": [
    "### Select multiple columns or rows using `DataFrame.loc` and a named slice.\n",
    "\n",
    "This example selects gender, salary and department for a set of usernames.\n",
    "```python\n",
    "salary_data.loc['achallenorb':'aertel2j', \"gender\":\"department\"]\n",
    "salary_data.loc['a':'b', 'first_name':'email']\n",
    "```"
   ]
  },
  {
   "cell_type": "code",
   "execution_count": null,
   "metadata": {},
   "outputs": [],
   "source": []
  },
  {
   "cell_type": "markdown",
   "metadata": {},
   "source": [
    "### Result of slicing can be used in further operations.\n",
    "```python\n",
    "salary_data.loc['b':'c', 'salary'].max() #Get highest salary for usernames starting with 'b'\n",
    "salary_data.loc['b':'c', 'salary'].mean() #Get average salary for usernames starting with 'b'\n",
    "```"
   ]
  },
  {
   "cell_type": "code",
   "execution_count": null,
   "metadata": {},
   "outputs": [],
   "source": []
  },
  {
   "cell_type": "markdown",
   "metadata": {},
   "source": [
    "### Use comparisons to select data based on value.\n",
    "These two statements are the same\n",
    "```python\n",
    "salary_data.loc[:, 'salary']\n",
    "salary_data['salary'] \n",
    "```\n",
    "\n",
    "You can slice to include multiple columns\n",
    "```python\n",
    "salary_data[['id','salary']]\n",
    "```\n",
    "\n",
    "We will save this subset into a variable\n",
    "```python\n",
    "salaries = salary_data['salary']\n",
    "```\n",
    "\n",
    "Determine who is paid over 80000\n",
    "```python\n",
    "salaries > 80000\n",
    "```\n",
    "\n",
    "And then print out a table of the usernames and their pay\n",
    "```python\n",
    "salaries[salaries > 80000]\n",
    "```"
   ]
  },
  {
   "cell_type": "code",
   "execution_count": null,
   "metadata": {},
   "outputs": [],
   "source": []
  },
  {
   "cell_type": "code",
   "execution_count": null,
   "metadata": {},
   "outputs": [],
   "source": []
  },
  {
   "cell_type": "code",
   "execution_count": null,
   "metadata": {},
   "outputs": [],
   "source": []
  },
  {
   "cell_type": "markdown",
   "metadata": {},
   "source": [
    "### Select values using a Boolean mask\n",
    "Above - we filtered a column.  We can apply this to an entire dataframe\n",
    "This will print all information from the dataframe for salaries greater than 80000\n",
    "```python\n",
    "salary_data[salary_data['salary'] > 80000]\n",
    "```\n",
    "\n",
    "We can combine filters to make more complex Boolean masks\n",
    "* & - and TRUE and TRUE is TRUE, TRUE and FALSE is FALSE\n",
    "* | - or TRUE and FALSE is TRUE, FALSE and FALSE is FALSE\n",
    "\n",
    "This will get all information from the dataframe for salaries greater than 80000, and department is support\n",
    "```python\n",
    "salary_data[(salary_data['salary'] > 80000) & \n",
    "            (salary_data['department']=='Support')]\n",
    "```\n",
    "\n"
   ]
  },
  {
   "cell_type": "code",
   "execution_count": null,
   "metadata": {},
   "outputs": [],
   "source": []
  },
  {
   "cell_type": "code",
   "execution_count": null,
   "metadata": {},
   "outputs": [],
   "source": []
  },
  {
   "cell_type": "markdown",
   "metadata": {},
   "source": [
    "# Activity 1\n",
    "Using slices, create a dataframe including the following filters:\n",
    "* Usernames between h and p\n",
    "* Columns firstname, lastname, department, salary, startdate \n",
    "* departments Sales or Services"
   ]
  },
  {
   "cell_type": "code",
   "execution_count": null,
   "metadata": {},
   "outputs": [],
   "source": []
  },
  {
   "cell_type": "markdown",
   "metadata": {},
   "source": [
    "# Activity 2\n",
    "Answer the following questions:\n",
    "* What is the minimun start date for Sales?\n",
    "* What is the highest salary for Engineering?\n"
   ]
  },
  {
   "cell_type": "code",
   "execution_count": null,
   "metadata": {},
   "outputs": [],
   "source": []
  },
  {
   "cell_type": "markdown",
   "metadata": {},
   "source": [
    "### Group By: Finding out information for groups\n",
    "\n",
    "Let's start with grouping all information by deparment, and getting counts then sums and seeing the difference\n",
    "```python\n",
    "salary_data.groupby('department').count() \n",
    "salary_data.groupby('department').sum()\n",
    "```"
   ]
  },
  {
   "cell_type": "code",
   "execution_count": null,
   "metadata": {},
   "outputs": [],
   "source": []
  },
  {
   "cell_type": "code",
   "execution_count": null,
   "metadata": {},
   "outputs": [],
   "source": []
  },
  {
   "cell_type": "markdown",
   "metadata": {},
   "source": [
    "## Group By: Breaking out data into multiple groups\n",
    "Now we add additional levels for the `groupby`.\n",
    "\n",
    "```python\n",
    "salary_data.groupby(['department','gender']).count()\n",
    "```\n",
    "\n",
    "And limit the amount of data printed by slicing by multiple columns\n",
    "```python\n",
    "salary_data[['department','gender','salary']].groupby(['department','gender']).count()\n",
    "salary_data[['department','gender','salary']].groupby(['department','gender']).mean()\n",
    "```\n",
    "\n",
    "This can be then written to .csv or excel\n",
    "\n",
    "```python\n",
    "dept_gender = salary_data[['department','gender','salary']]\n",
    "dept_gender_mean = dept_gender.groupby(['department','gender']).mean()\n",
    "dept_gender_mean.to_csv('data/test.csv')\n",
    "dept_gender_mean.to_csv('data/test.excel')\n",
    "```"
   ]
  },
  {
   "cell_type": "code",
   "execution_count": 67,
   "metadata": {},
   "outputs": [],
   "source": []
  },
  {
   "cell_type": "code",
   "execution_count": 66,
   "metadata": {},
   "outputs": [],
   "source": []
  },
  {
   "cell_type": "markdown",
   "metadata": {},
   "source": [
    "# Activity 3\n",
    "Create a csv file that shows the max salary per department. Only include department and max salary in your csv file.  You may do excel instead, if you prefer."
   ]
  },
  {
   "cell_type": "code",
   "execution_count": null,
   "metadata": {},
   "outputs": [],
   "source": []
  }
 ],
 "metadata": {
  "kernelspec": {
   "display_name": "Python 3",
   "language": "python",
   "name": "python3"
  },
  "language_info": {
   "codemirror_mode": {
    "name": "ipython",
    "version": 3
   },
   "file_extension": ".py",
   "mimetype": "text/x-python",
   "name": "python",
   "nbconvert_exporter": "python",
   "pygments_lexer": "ipython3",
   "version": "3.8.3"
  }
 },
 "nbformat": 4,
 "nbformat_minor": 4
}
