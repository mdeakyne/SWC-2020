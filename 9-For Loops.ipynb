{
 "cells": [
  {
   "cell_type": "markdown",
   "metadata": {},
   "source": [
    "# For loops\n",
    "## Questions\n",
    "How can I make a program do many things?\n",
    "\n",
    "## Objectives\n",
    "Explain what for loops are normally used for.\n",
    "\n",
    "Trace the execution of a simple (unnested) loop and correctly state the values of variables in each iteration.\n",
    "\n",
    "Write for loops that use the Accumulator pattern to aggregate values."
   ]
  },
  {
   "cell_type": "markdown",
   "metadata": {},
   "source": [
    "## A for loop executes commands once for each value in a collection.\n",
    "* Doing calculations on the values in a list one by one is as painful as working with pressure_001, pressure_002, etc.\n",
    "* A for loop tells Python to execute some statements once for each value in a list, a character string, or some other collection.\n",
    "* “for each thing in this group, do these operations”\n",
    "\n",
    "```python\n",
    "for number in [2, 3, 5]:\n",
    "    print(number)\n",
    "```\n",
    "Is equivalent to - \n",
    "```python\n",
    "print(2)\n",
    "print(3)\n",
    "print(5)\n",
    "```"
   ]
  },
  {
   "cell_type": "code",
   "execution_count": null,
   "metadata": {},
   "outputs": [],
   "source": []
  },
  {
   "cell_type": "markdown",
   "metadata": {},
   "source": [
    "### A for loop is made up of a collection, a loop variable, and a body.\n",
    "```python\n",
    "for number in [2, 3, 5]:\n",
    "    print(number)\n",
    "```\n",
    "\n",
    "* The collection, `[2, 3, 5]`, is what the loop is being run on.\n",
    "* The body, `print(number)`, specifies what to do for each value in the collection.\n",
    "* The loop variable, `number`, is what changes for each iteration of the loop.\n",
    "* The “current thing”."
   ]
  },
  {
   "cell_type": "code",
   "execution_count": null,
   "metadata": {},
   "outputs": [],
   "source": []
  },
  {
   "cell_type": "markdown",
   "metadata": {},
   "source": [
    "### The first line of the for loop must end with a colon, and the body must be indented.\n",
    "* The colon at the end of the first line signals the start of a block of statements.\n",
    "* Python uses indentation rather than {} or begin/end to show nesting.\n",
    "* Any consistent indentation is legal, but almost everyone uses four spaces.\n",
    "\n",
    "```ptyhon\n",
    "for number in [2, 3, 5]:\n",
    "print(number)\n",
    "```\n",
    "\n",
    "Indentation is always meaningful in Python.\n",
    "\n",
    "```python\n",
    "firstName = \"Jon\"\n",
    "  lastName = \"Smith\"\n",
    "```\n",
    "This error can be fixed by removing the extra spaces at the beginning of the second line."
   ]
  },
  {
   "cell_type": "code",
   "execution_count": null,
   "metadata": {},
   "outputs": [],
   "source": []
  },
  {
   "cell_type": "markdown",
   "metadata": {},
   "source": [
    "### Loop variables can be called anything.\n",
    "* As with all variables, loop variables are:\n",
    "    * Created on demand.\n",
    "    * Meaningless: their names can be anything at all.\n",
    "```python\n",
    "for kitten in [2, 3, 5]:\n",
    "    print(kitten)\n",
    "```"
   ]
  },
  {
   "cell_type": "code",
   "execution_count": null,
   "metadata": {},
   "outputs": [],
   "source": []
  },
  {
   "cell_type": "markdown",
   "metadata": {},
   "source": [
    "### The body of a loop can contain many statements.\n",
    "* But no loop should be more than a few lines long.\n",
    "* Hard for human beings to keep larger chunks of code in mind.\n",
    "```python\n",
    "primes = [2, 3, 5]\n",
    "for p in primes:\n",
    "    squared = p ** 2\n",
    "    cubed = p ** 3\n",
    "    print(p, squared, cubed)\n",
    "```"
   ]
  },
  {
   "cell_type": "code",
   "execution_count": null,
   "metadata": {},
   "outputs": [],
   "source": []
  },
  {
   "cell_type": "markdown",
   "metadata": {},
   "source": [
    "### Use range to iterate over a sequence of numbers.\n",
    "* The built-in function range produces a sequence of numbers.\n",
    "    * Not a list: the numbers are produced on demand to make looping over large ranges more efficient.\n",
    "* range(N) is the numbers 0..N-1\n",
    "    * Exactly the legal indices of a list or character string of length N\n",
    "\n",
    "```python\n",
    "print('a range is not a list: range(0, 3)')\n",
    "for number in range(0, 3):\n",
    "    print(number)\n",
    "```"
   ]
  },
  {
   "cell_type": "code",
   "execution_count": null,
   "metadata": {},
   "outputs": [],
   "source": []
  },
  {
   "cell_type": "markdown",
   "metadata": {},
   "source": [
    "### The Accumulator pattern turns many values into one.\n",
    "* A common pattern in programs is to:\n",
    "    1. Initialize an accumulator variable to zero, the empty string, or the empty list.\n",
    "    2. Update the variable with values from a collection.\n",
    "\n",
    "```python\n",
    "# Sum the first 10 integers.\n",
    "total = 0\n",
    "for number in range(10):\n",
    "   total = total + (number + 1)\n",
    "print(total)\n",
    "```"
   ]
  },
  {
   "cell_type": "code",
   "execution_count": null,
   "metadata": {},
   "outputs": [],
   "source": []
  },
  {
   "cell_type": "markdown",
   "metadata": {},
   "source": [
    "### Activity 1\n",
    "Is an indentation error a syntax error or a runtime error?\n"
   ]
  },
  {
   "cell_type": "code",
   "execution_count": null,
   "metadata": {},
   "outputs": [],
   "source": []
  },
  {
   "cell_type": "markdown",
   "metadata": {},
   "source": [
    "### Activity 2\n",
    "Fill in the blanks to reverse the original string (ie 'nit' in this example)\n",
    "```python\n",
    "original = \"tin\"\n",
    "result = ____\n",
    "for char in original:\n",
    "    result = ____\n",
    "print(result)\n",
    "```"
   ]
  },
  {
   "cell_type": "code",
   "execution_count": null,
   "metadata": {},
   "outputs": [],
   "source": []
  },
  {
   "cell_type": "markdown",
   "metadata": {},
   "source": [
    "## Activity 3\n",
    "Fill in the blanks to get the total length of strings:\n",
    "\n",
    "```python\n",
    "# Total length of the strings in the list: [\"red\", \"green\", \"blue\"] => 12\n",
    "total = 0\n",
    "for word in [\"red\", \"green\", \"blue\"]:\n",
    "    ____ = ____ + len(word)\n",
    "print(total)\n",
    "```"
   ]
  },
  {
   "cell_type": "code",
   "execution_count": null,
   "metadata": {},
   "outputs": [],
   "source": []
  }
 ],
 "metadata": {
  "kernelspec": {
   "display_name": "Python 3",
   "language": "python",
   "name": "python3"
  },
  "language_info": {
   "codemirror_mode": {
    "name": "ipython",
    "version": 3
   },
   "file_extension": ".py",
   "mimetype": "text/x-python",
   "name": "python",
   "nbconvert_exporter": "python",
   "pygments_lexer": "ipython3",
   "version": "3.8.3"
  }
 },
 "nbformat": 4,
 "nbformat_minor": 4
}
