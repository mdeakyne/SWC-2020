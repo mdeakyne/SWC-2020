{
 "cells": [
  {
   "cell_type": "markdown",
   "metadata": {},
   "source": [
    "# Lists\n",
    "\n",
    "Teaching: 10 min\n",
    "Exercises: 10 minQuestions\n",
    "How can I store multiple values?\n",
    "\n",
    "## Objectives\n",
    "Explain why programs need collections of values.\n",
    "\n",
    "Write programs that create flat lists, index them, slice them, and modify them through assignment and method calls."
   ]
  },
  {
   "cell_type": "markdown",
   "metadata": {},
   "source": [
    "## A list stores many values in a single structure.\n",
    "```python\n",
    "pressures = [0.273, 0.275, 0.277, 0.275, 0.276]\n",
    "print('pressures:', pressures)\n",
    "print('length:', len(pressures))\n",
    "```"
   ]
  },
  {
   "cell_type": "code",
   "execution_count": null,
   "metadata": {},
   "outputs": [],
   "source": []
  },
  {
   "cell_type": "markdown",
   "metadata": {},
   "source": [
    "## Use an items index to fetch it from a list\n",
    "```python\n",
    "print('zeroth item of pressures:', pressures[0])\n",
    "print('fourth item of pressures:', pressures[4])\n",
    "```"
   ]
  },
  {
   "cell_type": "code",
   "execution_count": null,
   "metadata": {},
   "outputs": [],
   "source": []
  },
  {
   "cell_type": "markdown",
   "metadata": {},
   "source": [
    "## Lists’ values can be replaced by assigning to them.\n",
    "```python\n",
    "pressures[0] = 0.265\n",
    "print('pressures is now:', pressures)\n",
    "```"
   ]
  },
  {
   "cell_type": "code",
   "execution_count": null,
   "metadata": {},
   "outputs": [],
   "source": []
  },
  {
   "cell_type": "markdown",
   "metadata": {},
   "source": [
    "## Appending items to a list lengthens it.\n",
    "Use`list_name.append` to add items to the end of a list\n",
    "\n",
    "```python\n",
    "primes = [2, 3, 5]\n",
    "print('primes is initially:', primes)\n",
    "primes.append(7)\n",
    "primes.append(9)\n",
    "print('primes has become:', primes)\n",
    "```\n",
    "\n",
    "`append` is a _method_ of lists\n",
    "A method is a function tied to a particular method.\n",
    "It will add a value to the end of the list.\n",
    "\n",
    "`extend` is similar to `append`, but it allows you to combine two lists. For example:\n",
    "\n",
    "```python\n",
    "teen_primes = [11, 13, 17, 19]\n",
    "middle_aged_primes = [37, 41, 43, 47]\n",
    "print('primes is currently:', primes)\n",
    "primes.extend(teen_primes)\n",
    "print('primes has now become:', primes)\n",
    "primes.append(middle_aged_primes)\n",
    "print('primes has finally become:', primes)\n",
    "```\n",
    "\n",
    "Note that while `extend` maintains the \"flat\" structure of the list, appending a list to list makes the result two-dimensional, meaning you can add a list to a list. \n"
   ]
  },
  {
   "cell_type": "code",
   "execution_count": null,
   "metadata": {},
   "outputs": [],
   "source": []
  },
  {
   "cell_type": "markdown",
   "metadata": {},
   "source": [
    "## Use `del` to remove items from a list entirely\n",
    "`del list_name[index]` removes an item from a list and shortens the list.\n",
    "Not a function or a method, but a statement in the language. \n",
    "You can delete pretty much anything.\n",
    "\n",
    "```python\n",
    "primes = [2, 3, 5, 7, 9]\n",
    "print('primes before removing last item:', primes)\n",
    "del primes[4]\n",
    "print('primes after removing last item:', primes)\n",
    "del primes\n",
    "print('primes after removing primes:', primes)\n",
    "```"
   ]
  },
  {
   "cell_type": "code",
   "execution_count": null,
   "metadata": {},
   "outputs": [],
   "source": []
  },
  {
   "cell_type": "markdown",
   "metadata": {},
   "source": [
    "## The empty list contains no values.\n",
    "```python\n",
    "empty = []\n",
    "print(len(empty))\n",
    "```"
   ]
  },
  {
   "cell_type": "code",
   "execution_count": 1,
   "metadata": {},
   "outputs": [
    {
     "name": "stdout",
     "output_type": "stream",
     "text": [
      "0\n"
     ]
    }
   ],
   "source": []
  },
  {
   "cell_type": "markdown",
   "metadata": {},
   "source": [
    "## Lists may contain values of different types.\n",
    "```python\n",
    "goals = [1, 'Create lists.', 2, 'Extract items from lists.', 3, 'Modify lists.']\n",
    "```\n",
    "\n",
    "## Both lists and strings have indexes.\n",
    "```python\n",
    "element = 'carbon'\n",
    "print('Character at index 0:', element[0])\n",
    "print('Character at index 3:', element[3])\n",
    "\n",
    "elements = ['carbon', 'hydrogen', 'oxygen']\n",
    "print('Element at index 0:', elements[0])\n",
    "print('Element at index 2:', elements[2])\n",
    "```\n",
    "\n",
    "## Strings are immutable.  Lists are mutable.\n",
    "Immutable means : cannot be changed.\n",
    "Mutable means : can be changed.\n",
    "\n",
    "```python\n",
    "element[0] = 'C' #Error\n",
    "elements[1] = 'helium' #Works\n",
    "```"
   ]
  },
  {
   "cell_type": "code",
   "execution_count": null,
   "metadata": {},
   "outputs": [],
   "source": []
  }
 ],
 "metadata": {
  "kernelspec": {
   "display_name": "Python 3",
   "language": "python",
   "name": "python3"
  },
  "language_info": {
   "codemirror_mode": {
    "name": "ipython",
    "version": 3
   },
   "file_extension": ".py",
   "mimetype": "text/x-python",
   "name": "python",
   "nbconvert_exporter": "python",
   "pygments_lexer": "ipython3",
   "version": "3.8.3"
  }
 },
 "nbformat": 4,
 "nbformat_minor": 4
}
