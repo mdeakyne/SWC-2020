{
 "cells": [
  {
   "cell_type": "markdown",
   "metadata": {},
   "source": [
    "# Plotting"
   ]
  },
  {
   "cell_type": "markdown",
   "metadata": {},
   "source": [
    "## Questions\n",
    "How can I plot my data?\n",
    "\n",
    "How can I save my plot for publishing?\n",
    "\n",
    "## Objectives\n",
    "Create a time series plot showing a single data set.\n",
    "\n",
    "Create a scatter plot showing relationship between two data sets."
   ]
  },
  {
   "cell_type": "markdown",
   "metadata": {},
   "source": [
    "### `matplotlib` is the most widely used scientific plotting library in Python\n",
    "We're going to set this up with two commands, a jupyter 'magic' command and an import\n",
    "```python\n",
    "%matplotlib inline\n",
    "import matplotlib.pyplot as plt\n",
    "```\n",
    "\n",
    "We are then going to import our data into a pandas dataframe again\n",
    "\n",
    "```python\n",
    "import pandas as pd\n",
    "salary_data = pd.read_csv('data/salaries.csv', index_col='id')\n",
    "salary_data = salary_data.sort_index()\n",
    "salary_data.head(n=20)\n",
    "```"
   ]
  },
  {
   "cell_type": "code",
   "execution_count": null,
   "metadata": {},
   "outputs": [],
   "source": []
  },
  {
   "cell_type": "markdown",
   "metadata": {},
   "source": [
    "### Plot data directly from a Pandas dataframe.\n",
    "This will plot salary vs id\n",
    "\n",
    "```python\n",
    "salary_data.plot()\n",
    "```\n"
   ]
  },
  {
   "cell_type": "code",
   "execution_count": null,
   "metadata": {},
   "outputs": [],
   "source": []
  },
  {
   "cell_type": "markdown",
   "metadata": {},
   "source": [
    "### Many styles of plot are available\n",
    "A better plot to start with would be a box plot\n",
    "```python\n",
    "salary_data.plot(kind='box')\n",
    "```"
   ]
  },
  {
   "cell_type": "code",
   "execution_count": null,
   "metadata": {},
   "outputs": [],
   "source": []
  },
  {
   "cell_type": "markdown",
   "metadata": {},
   "source": [
    "### We can plot based on slices\n",
    "Let's plot salaries for different departments\n",
    "```python\n",
    "salary_data[salary_data['department'] == 'Sales'].plot(kind='box')\n",
    "salary_data[salary_data['department'] == 'Services'].plot(kind='box')\n",
    "```"
   ]
  },
  {
   "cell_type": "code",
   "execution_count": null,
   "metadata": {},
   "outputs": [],
   "source": []
  },
  {
   "cell_type": "code",
   "execution_count": null,
   "metadata": {},
   "outputs": [],
   "source": []
  },
  {
   "cell_type": "markdown",
   "metadata": {},
   "source": [
    "### Can call plot directly\n",
    "The command is `plt.plot(x,y)`\n",
    "\n",
    "```python\n",
    "x=[1,2,3,4,5,6]\n",
    "y=[8,5,4,3,7,8]\n",
    "\n",
    "plt.plot(x,y, 'g--')\n",
    "```"
   ]
  },
  {
   "cell_type": "code",
   "execution_count": null,
   "metadata": {},
   "outputs": [],
   "source": []
  },
  {
   "cell_type": "markdown",
   "metadata": {},
   "source": [
    "### Can plot many sets of data together.\n",
    "### Select three departments' worth of data.\n",
    "```python\n",
    "sales = salary_data[salary_data['department'] == 'Sales']['salary']\n",
    "services = salary_data[salary_data['department'] == 'Services']['salary']\n",
    "engineering = salary_data[salary_data['department'] == 'Engineering']['salary']\n",
    "```\n",
    "### Plot with different box plots\n",
    "Position is important, so they don't overlap\n",
    "```python\n",
    "plt.boxplot(sales, positions=[1],labels=['Sales'])\n",
    "plt.boxplot(services, positions=[2], labels=['Services'])\n",
    "plt.boxplot(engineering, positions=[3], labels=['Engineering'])\n",
    "```\n",
    "\n",
    "\n",
    "### Create legend.\n",
    "```python\n",
    "plt.xlabel('Department')\n",
    "plt.ylabel('Salary')\n",
    "```"
   ]
  },
  {
   "cell_type": "code",
   "execution_count": 26,
   "metadata": {},
   "outputs": [],
   "source": []
  },
  {
   "cell_type": "markdown",
   "metadata": {},
   "source": [
    "# Activity 1\n",
    "Create a bar plot with 5 x values and 5 y values of your choice"
   ]
  },
  {
   "cell_type": "code",
   "execution_count": null,
   "metadata": {},
   "outputs": [],
   "source": []
  },
  {
   "cell_type": "markdown",
   "metadata": {},
   "source": [
    "# Activity 2\n",
    "Print the average salary for Sales, Services, and Engineering in a bar plot\n",
    "Hint: \n",
    "```python\n",
    "x = ['Sales','Services','Engineering']\n",
    "```"
   ]
  },
  {
   "cell_type": "code",
   "execution_count": null,
   "metadata": {},
   "outputs": [],
   "source": []
  },
  {
   "cell_type": "markdown",
   "metadata": {},
   "source": [
    "# Saving your plot\n",
    "```python\n",
    "plt.savefig('my_figure.png')\n",
    "```"
   ]
  },
  {
   "cell_type": "code",
   "execution_count": null,
   "metadata": {},
   "outputs": [],
   "source": []
  }
 ],
 "metadata": {
  "kernelspec": {
   "display_name": "Python 3",
   "language": "python",
   "name": "python3"
  },
  "language_info": {
   "codemirror_mode": {
    "name": "ipython",
    "version": 3
   },
   "file_extension": ".py",
   "mimetype": "text/x-python",
   "name": "python",
   "nbconvert_exporter": "python",
   "pygments_lexer": "ipython3",
   "version": "3.8.3"
  }
 },
 "nbformat": 4,
 "nbformat_minor": 4
}
