{
 "cells": [
  {
   "cell_type": "markdown",
   "metadata": {},
   "source": [
    "# Running and quitting"
   ]
  },
  {
   "cell_type": "markdown",
   "metadata": {},
   "source": [
    "## Questions\n",
    "How can I run Python programs?\n",
    "\n",
    "## Objectives\n",
    "* Launch the JupyterLab server.\n",
    "\n",
    "* Create a new Python script.\n",
    "\n",
    "* Create a Jupyter notebook.\n",
    "\n",
    "* Shutdown the JupyterLab server.\n",
    "\n",
    "* Understand the difference between a Python script and a Jupyter notebook.\n",
    "\n",
    "* Create Markdown cells in a notebook.\n",
    "\n",
    "* Create and run Python cells in a notebook."
   ]
  },
  {
   "cell_type": "markdown",
   "metadata": {},
   "source": [
    "### Launch the jupyterlab server\n",
    "```bash\n",
    "> jupyter lab\n",
    "```\n"
   ]
  },
  {
   "cell_type": "markdown",
   "metadata": {},
   "source": [
    "![SegmentLocal](images/jupyterLaunch.gif \"Jupyter Launch\")"
   ]
  },
  {
   "cell_type": "markdown",
   "metadata": {},
   "source": [
    "## Go throgh the following\n",
    "* Menu Bar\n",
    "* Left Sidebar\n",
    "* Main Work Area\n",
    "* Creating a Python Script\n",
    "* Creating a Jupyter Notebook\n",
    "* Code cell vs Markdown \n",
    "* Running cells with \"Shift + Return\""
   ]
  },
  {
   "cell_type": "code",
   "execution_count": null,
   "metadata": {},
   "outputs": [],
   "source": []
  },
  {
   "cell_type": "markdown",
   "metadata": {},
   "source": [
    "# Practice \n",
    "* Creating markdown cell\n",
    "* Creating code cell and switching\n",
    "* Closing and Relaunching"
   ]
  },
  {
   "cell_type": "markdown",
   "metadata": {},
   "source": [
    "## Example markdown cell"
   ]
  },
  {
   "cell_type": "markdown",
   "metadata": {},
   "source": [
    "print(\"Test code cell\")"
   ]
  },
  {
   "cell_type": "code",
   "execution_count": null,
   "metadata": {},
   "outputs": [],
   "source": []
  }
 ],
 "metadata": {
  "kernelspec": {
   "display_name": "Python 3",
   "language": "python",
   "name": "python3"
  },
  "language_info": {
   "codemirror_mode": {
    "name": "ipython",
    "version": 3
   },
   "file_extension": ".py",
   "mimetype": "text/x-python",
   "name": "python",
   "nbconvert_exporter": "python",
   "pygments_lexer": "ipython3",
   "version": "3.8.3"
  }
 },
 "nbformat": 4,
 "nbformat_minor": 4
}
